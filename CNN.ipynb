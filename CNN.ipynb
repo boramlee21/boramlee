{
 "cells": [
  {
   "cell_type": "markdown",
   "id": "7e6fe477",
   "metadata": {},
   "source": [
    "## 텐서 기본 개념부터 우선 잡고 갑시다  \n",
    "## 이미지 다룰땐 좀 헷갈려  \n",
    "\n",
    "텐서는 하나의 데이터를 지칭할땐 사용하지 않는다.  \n",
    "복수개의 데이터를 다양한 묶음으로 설명할때 필요한 추가 차원을 고려하기 위해 만들어짐\n"
   ]
  },
  {
   "cell_type": "markdown",
   "id": "e947afe7",
   "metadata": {},
   "source": [
    "딥러닝을 이용한 자연어처리 입문 / nlp를 위한 합성곱 신경망  \n",
    "https://wikidocs.net/64066  \n",
    "  \n",
    "컨볼루션 신경망 레이어 이야기  \n",
    "https://tykimos.github.io/2017/01/27/CNN_Layer_Talk/  "
   ]
  },
  {
   "cell_type": "code",
   "execution_count": 1,
   "id": "ae1f4390",
   "metadata": {},
   "outputs": [
    {
     "name": "stdout",
     "output_type": "stream",
     "text": [
      "12\n",
      "0\n",
      "[1 2 3 4]\n",
      "1\n",
      "[[1 2 3 4]\n",
      " [2 3 4 5]\n",
      " [3 4 5 6]\n",
      " [4 5 6 7]\n",
      " [5 6 7 8]]\n",
      "2\n",
      "3\n"
     ]
    }
   ],
   "source": [
    "import numpy as np\n",
    "\n",
    "# 스칼라(0d텐서)\n",
    "x = np.array(12)\n",
    "print(x)\n",
    "print(x.ndim) # 몇 차원 텐서인가\n",
    "\n",
    "# 벡터(1d텐서)\n",
    "a = np.array([1,2,3,4]) # 4차원 벡터\n",
    "print(a)\n",
    "print(a.ndim) # 1차원 텐서\n",
    "\n",
    "# 행렬(2d텐서)\n",
    "b = np.array([[1,2,3,4],\n",
    "              [2,3,4,5],\n",
    "              [3,4,5,6],\n",
    "              [4,5,6,7],\n",
    "              [5,6,7,8]])\n",
    "print(b)\n",
    "print(b.ndim)\n",
    "\n",
    "# 3d텐서와 그 이상\n",
    "c = np.array([[[5, 78, 2, 34, 0], \n",
    "               [6, 79, 3, 35, 1], \n",
    "               [7, 80, 4, 36, 2]], \n",
    "              [[5, 78, 2, 34, 0], \n",
    "               [6, 79, 3, 35, 1], \n",
    "               [7, 80, 4, 36, 2]], \n",
    "              [[5, 78, 2, 34, 0], \n",
    "               [6, 79, 3, 35, 1], \n",
    "               [7, 80, 4, 36, 2]]]) \n",
    "print(c.ndim) # = 연속 대괄호의 개수"
   ]
  },
  {
   "cell_type": "code",
   "execution_count": 8,
   "id": "58041c15",
   "metadata": {},
   "outputs": [],
   "source": [
    "import tensorflow as tf\n",
    "from tensorflow.keras import datasets, layers, models"
   ]
  },
  {
   "cell_type": "code",
   "execution_count": 2,
   "id": "306be0b5",
   "metadata": {},
   "outputs": [],
   "source": [
    "from tensorflow.keras.datasets import mnist\n",
    "(train_images, train_labels), (test_images, test_labels) = mnist.load_data()"
   ]
  },
  {
   "cell_type": "code",
   "execution_count": 3,
   "id": "41988950",
   "metadata": {},
   "outputs": [
    {
     "name": "stdout",
     "output_type": "stream",
     "text": [
      "3\n",
      "(60000, 28, 28)\n"
     ]
    }
   ],
   "source": [
    "print(train_images.ndim)\n",
    "print(train_images.shape)"
   ]
  },
  {
   "cell_type": "code",
   "execution_count": 4,
   "id": "896e3fae",
   "metadata": {},
   "outputs": [
    {
     "data": {
      "text/plain": [
       "<function matplotlib.pyplot.show(close=None, block=None)>"
      ]
     },
     "execution_count": 4,
     "metadata": {},
     "output_type": "execute_result"
    },
    {
     "data": {
      "image/png": "[encoded data removed]",
      "text/plain": [
       "<Figure size 432x288 with 1 Axes>"
      ]
     },
     "metadata": {
      "needs_background": "light"
     },
     "output_type": "display_data"
    }
   ],
   "source": [
    "digit = train_images[4]\n",
    "import matplotlib.pyplot as plt\n",
    "plt.imshow(digit, cmap=plt.cm.binary)\n",
    "plt.show"
   ]
  },
  {
   "cell_type": "markdown",
   "id": "9e7daf2d",
   "metadata": {},
   "source": [
    "## channel-last/channel-first\n",
    "\n",
    "이미지 텐서의 크기를 지정하는 방식은 두 가지입니다. (텐서플로에서 사용하는) 채널 마지막channel-last 방식과 (씨아노에서 사용하는) 채널 우선channel-first 방식입니다. 구글의 텐서플로 머신 러닝 프레임워크는 (samples, height, width, color_depth)처럼 컬러 채널의 깊이를 끝에 놓습니다. 반면에 씨아노는 (samples, color_depth, height, width)처럼 컬러 채널의 깊이를 배치 축 바로 뒤에 놓습니다. 씨아노 방식을 사용하면 앞선 예는 (128, 1, 256, 256)과 (128, 3, 256, 256)이 됩니다. 케라스 프레임워크는 두 형식을 모두 지원합니다.  \n",
    "\n",
    "https://tensorflow.blog/%EC%BC%80%EB%9D%BC%EC%8A%A4-%EB%94%A5%EB%9F%AC%EB%8B%9D/2-2-%EC%8B%A0%EA%B2%BD%EB%A7%9D%EC%9D%84-%EC%9C%84%ED%95%9C-%EB%8D%B0%EC%9D%B4%ED%84%B0-%ED%91%9C%ED%98%84/"
   ]
  },
  {
   "cell_type": "code",
   "execution_count": 5,
   "id": "00c3c7ce",
   "metadata": {},
   "outputs": [],
   "source": [
    "train_images = train_images.reshape((60000,28,28,1))\n",
    "test_images = test_images.reshape((10000,28,28,1))"
   ]
  },
  {
   "cell_type": "code",
   "execution_count": 6,
   "id": "b7912581",
   "metadata": {},
   "outputs": [],
   "source": [
    "# 픽셀 값 0~1 정규화\n",
    "train_images, test_images = train_images/255.0, test_images/255.0"
   ]
  },
  {
   "cell_type": "code",
   "execution_count": 9,
   "id": "d77c0cfb",
   "metadata": {},
   "outputs": [],
   "source": [
    "model = models.Sequential()\n",
    "model.add(layers.Conv2D(32,(3,3),activation='relu',input_shape = (28, 28, 1)))\n",
    "model.add(layers.MaxPooling2D((2,2)))\n",
    "model.add(layers.Conv2D(64,(3,3),activation='relu'))\n",
    "model.add(layers.MaxPooling2D((2,2)))\n",
    "model.add(layers.Conv2D(64,(3,3),activation='relu'))"
   ]
  },
  {
   "cell_type": "code",
   "execution_count": 10,
   "id": "ea99a7c4",
   "metadata": {},
   "outputs": [
    {
     "name": "stdout",
     "output_type": "stream",
     "text": [
      "Model: \"sequential\"\n",
      "_________________________________________________________________\n",
      "Layer (type)                 Output Shape              Param #   \n",
      "=================================================================\n",
      "conv2d (Conv2D)              (None, 26, 26, 32)        320       \n",
      "_________________________________________________________________\n",
      "max_pooling2d (MaxPooling2D) (None, 13, 13, 32)        0         \n",
      "_________________________________________________________________\n",
      "conv2d_1 (Conv2D)            (None, 11, 11, 64)        18496     \n",
      "_________________________________________________________________\n",
      "max_pooling2d_1 (MaxPooling2 (None, 5, 5, 64)          0         \n",
      "_________________________________________________________________\n",
      "conv2d_2 (Conv2D)            (None, 3, 3, 64)          36928     \n",
      "=================================================================\n",
      "Total params: 55,744\n",
      "Trainable params: 55,744\n",
      "Non-trainable params: 0\n",
      "_________________________________________________________________\n"
     ]
    }
   ],
   "source": [
    "model.summary()"
   ]
  },
  {
   "cell_type": "code",
   "execution_count": 11,
   "id": "800e46ec",
   "metadata": {},
   "outputs": [
    {
     "data": {
      "image/svg+xml": [
       "<svg height=\"392pt\" viewBox=\"0.00 0.00 371.00 470.00\" width=\"309pt\" xmlns=\"http://www.w3.org/2000/svg\" xmlns:xlink=\"http://www.w3.org/1999/xlink\">\n",
       "<g class=\"graph\" id=\"graph0\" transform=\"scale(.8333 .8333) rotate(0) translate(4 466)\">\n",
       "<title>G</title>\n",
       "<polygon fill=\"#ffffff\" points=\"-4,4 -4,-466 367,-466 367,4 -4,4\" stroke=\"transparent\"/>\n",
       "<!-- 140432511756496 -->\n",
       "<g class=\"node\" id=\"node1\">\n",
       "<title>140432511756496</title>\n",
       "<polygon fill=\"none\" points=\"23.5,-415.5 23.5,-461.5 339.5,-461.5 339.5,-415.5 23.5,-415.5\" stroke=\"#000000\"/>\n",
       "<text fill=\"#000000\" font-family=\"Times,serif\" font-size=\"14.00\" text-anchor=\"middle\" x=\"105\" y=\"-434.8\">conv2d_input: InputLayer</text>\n",
       "<polyline fill=\"none\" points=\"186.5,-415.5 186.5,-461.5 \" stroke=\"#000000\"/>\n",
       "<text fill=\"#000000\" font-family=\"Times,serif\" font-size=\"14.00\" text-anchor=\"middle\" x=\"214.5\" y=\"-446.3\">input:</text>\n",
       "<polyline fill=\"none\" points=\"186.5,-438.5 242.5,-438.5 \" stroke=\"#000000\"/>\n",
       "<text fill=\"#000000\" font-family=\"Times,serif\" font-size=\"14.00\" text-anchor=\"middle\" x=\"214.5\" y=\"-423.3\">output:</text>\n",
       "<polyline fill=\"none\" points=\"242.5,-415.5 242.5,-461.5 \" stroke=\"#000000\"/>\n",
       "<text fill=\"#000000\" font-family=\"Times,serif\" font-size=\"14.00\" text-anchor=\"middle\" x=\"291\" y=\"-446.3\">[(?, 28, 28, 1)]</text>\n",
       "<polyline fill=\"none\" points=\"242.5,-438.5 339.5,-438.5 \" stroke=\"#000000\"/>\n",
       "<text fill=\"#000000\" font-family=\"Times,serif\" font-size=\"14.00\" text-anchor=\"middle\" x=\"291\" y=\"-423.3\">[(?, 28, 28, 1)]</text>\n",
       "</g>\n",
       "<!-- 140432850840720 -->\n",
       "<g class=\"node\" id=\"node2\">\n",
       "<title>140432850840720</title>\n",
       "<polygon fill=\"none\" points=\"49.5,-332.5 49.5,-378.5 313.5,-378.5 313.5,-332.5 49.5,-332.5\" stroke=\"#000000\"/>\n",
       "<text fill=\"#000000\" font-family=\"Times,serif\" font-size=\"14.00\" text-anchor=\"middle\" x=\"106\" y=\"-351.8\">conv2d: Conv2D</text>\n",
       "<polyline fill=\"none\" points=\"162.5,-332.5 162.5,-378.5 \" stroke=\"#000000\"/>\n",
       "<text fill=\"#000000\" font-family=\"Times,serif\" font-size=\"14.00\" text-anchor=\"middle\" x=\"190.5\" y=\"-363.3\">input:</text>\n",
       "<polyline fill=\"none\" points=\"162.5,-355.5 218.5,-355.5 \" stroke=\"#000000\"/>\n",
       "<text fill=\"#000000\" font-family=\"Times,serif\" font-size=\"14.00\" text-anchor=\"middle\" x=\"190.5\" y=\"-340.3\">output:</text>\n",
       "<polyline fill=\"none\" points=\"218.5,-332.5 218.5,-378.5 \" stroke=\"#000000\"/>\n",
       "<text fill=\"#000000\" font-family=\"Times,serif\" font-size=\"14.00\" text-anchor=\"middle\" x=\"266\" y=\"-363.3\">(?, 28, 28, 1)</text>\n",
       "<polyline fill=\"none\" points=\"218.5,-355.5 313.5,-355.5 \" stroke=\"#000000\"/>\n",
       "<text fill=\"#000000\" font-family=\"Times,serif\" font-size=\"14.00\" text-anchor=\"middle\" x=\"266\" y=\"-340.3\">(?, 26, 26, 32)</text>\n",
       "</g>\n",
       "<!-- 140432511756496&#45;&gt;140432850840720 -->\n",
       "<g class=\"edge\" id=\"edge1\">\n",
       "<title>140432511756496-&gt;140432850840720</title>\n",
       "<path d=\"M181.5,-415.3799C181.5,-407.1745 181.5,-397.7679 181.5,-388.8786\" fill=\"none\" stroke=\"#000000\"/>\n",
       "<polygon fill=\"#000000\" points=\"185.0001,-388.784 181.5,-378.784 178.0001,-388.784 185.0001,-388.784\" stroke=\"#000000\"/>\n",
       "</g>\n",
       "<!-- 140432850839952 -->\n",
       "<g class=\"node\" id=\"node3\">\n",
       "<title>140432850839952</title>\n",
       "<polygon fill=\"none\" points=\"7,-249.5 7,-295.5 356,-295.5 356,-249.5 7,-249.5\" stroke=\"#000000\"/>\n",
       "<text fill=\"#000000\" font-family=\"Times,serif\" font-size=\"14.00\" text-anchor=\"middle\" x=\"106\" y=\"-268.8\">max_pooling2d: MaxPooling2D</text>\n",
       "<polyline fill=\"none\" points=\"205,-249.5 205,-295.5 \" stroke=\"#000000\"/>\n",
       "<text fill=\"#000000\" font-family=\"Times,serif\" font-size=\"14.00\" text-anchor=\"middle\" x=\"233\" y=\"-280.3\">input:</text>\n",
       "<polyline fill=\"none\" points=\"205,-272.5 261,-272.5 \" stroke=\"#000000\"/>\n",
       "<text fill=\"#000000\" font-family=\"Times,serif\" font-size=\"14.00\" text-anchor=\"middle\" x=\"233\" y=\"-257.3\">output:</text>\n",
       "<polyline fill=\"none\" points=\"261,-249.5 261,-295.5 \" stroke=\"#000000\"/>\n",
       "<text fill=\"#000000\" font-family=\"Times,serif\" font-size=\"14.00\" text-anchor=\"middle\" x=\"308.5\" y=\"-280.3\">(?, 26, 26, 32)</text>\n",
       "<polyline fill=\"none\" points=\"261,-272.5 356,-272.5 \" stroke=\"#000000\"/>\n",
       "<text fill=\"#000000\" font-family=\"Times,serif\" font-size=\"14.00\" text-anchor=\"middle\" x=\"308.5\" y=\"-257.3\">(?, 13, 13, 32)</text>\n",
       "</g>\n",
       "<!-- 140432850840720&#45;&gt;140432850839952 -->\n",
       "<g class=\"edge\" id=\"edge2\">\n",
       "<title>140432850840720-&gt;140432850839952</title>\n",
       "<path d=\"M181.5,-332.3799C181.5,-324.1745 181.5,-314.7679 181.5,-305.8786\" fill=\"none\" stroke=\"#000000\"/>\n",
       "<polygon fill=\"#000000\" points=\"185.0001,-305.784 181.5,-295.784 178.0001,-305.784 185.0001,-305.784\" stroke=\"#000000\"/>\n",
       "</g>\n",
       "<!-- 140432511757968 -->\n",
       "<g class=\"node\" id=\"node4\">\n",
       "<title>140432511757968</title>\n",
       "<polygon fill=\"none\" points=\"42.5,-166.5 42.5,-212.5 320.5,-212.5 320.5,-166.5 42.5,-166.5\" stroke=\"#000000\"/>\n",
       "<text fill=\"#000000\" font-family=\"Times,serif\" font-size=\"14.00\" text-anchor=\"middle\" x=\"106\" y=\"-185.8\">conv2d_1: Conv2D</text>\n",
       "<polyline fill=\"none\" points=\"169.5,-166.5 169.5,-212.5 \" stroke=\"#000000\"/>\n",
       "<text fill=\"#000000\" font-family=\"Times,serif\" font-size=\"14.00\" text-anchor=\"middle\" x=\"197.5\" y=\"-197.3\">input:</text>\n",
       "<polyline fill=\"none\" points=\"169.5,-189.5 225.5,-189.5 \" stroke=\"#000000\"/>\n",
       "<text fill=\"#000000\" font-family=\"Times,serif\" font-size=\"14.00\" text-anchor=\"middle\" x=\"197.5\" y=\"-174.3\">output:</text>\n",
       "<polyline fill=\"none\" points=\"225.5,-166.5 225.5,-212.5 \" stroke=\"#000000\"/>\n",
       "<text fill=\"#000000\" font-family=\"Times,serif\" font-size=\"14.00\" text-anchor=\"middle\" x=\"273\" y=\"-197.3\">(?, 13, 13, 32)</text>\n",
       "<polyline fill=\"none\" points=\"225.5,-189.5 320.5,-189.5 \" stroke=\"#000000\"/>\n",
       "<text fill=\"#000000\" font-family=\"Times,serif\" font-size=\"14.00\" text-anchor=\"middle\" x=\"273\" y=\"-174.3\">(?, 11, 11, 64)</text>\n",
       "</g>\n",
       "<!-- 140432850839952&#45;&gt;140432511757968 -->\n",
       "<g class=\"edge\" id=\"edge3\">\n",
       "<title>140432850839952-&gt;140432511757968</title>\n",
       "<path d=\"M181.5,-249.3799C181.5,-241.1745 181.5,-231.7679 181.5,-222.8786\" fill=\"none\" stroke=\"#000000\"/>\n",
       "<polygon fill=\"#000000\" points=\"185.0001,-222.784 181.5,-212.784 178.0001,-222.784 185.0001,-222.784\" stroke=\"#000000\"/>\n",
       "</g>\n",
       "<!-- 140432512089872 -->\n",
       "<g class=\"node\" id=\"node5\">\n",
       "<title>140432512089872</title>\n",
       "<polygon fill=\"none\" points=\"0,-83.5 0,-129.5 363,-129.5 363,-83.5 0,-83.5\" stroke=\"#000000\"/>\n",
       "<text fill=\"#000000\" font-family=\"Times,serif\" font-size=\"14.00\" text-anchor=\"middle\" x=\"106\" y=\"-102.8\">max_pooling2d_1: MaxPooling2D</text>\n",
       "<polyline fill=\"none\" points=\"212,-83.5 212,-129.5 \" stroke=\"#000000\"/>\n",
       "<text fill=\"#000000\" font-family=\"Times,serif\" font-size=\"14.00\" text-anchor=\"middle\" x=\"240\" y=\"-114.3\">input:</text>\n",
       "<polyline fill=\"none\" points=\"212,-106.5 268,-106.5 \" stroke=\"#000000\"/>\n",
       "<text fill=\"#000000\" font-family=\"Times,serif\" font-size=\"14.00\" text-anchor=\"middle\" x=\"240\" y=\"-91.3\">output:</text>\n",
       "<polyline fill=\"none\" points=\"268,-83.5 268,-129.5 \" stroke=\"#000000\"/>\n",
       "<text fill=\"#000000\" font-family=\"Times,serif\" font-size=\"14.00\" text-anchor=\"middle\" x=\"315.5\" y=\"-114.3\">(?, 11, 11, 64)</text>\n",
       "<polyline fill=\"none\" points=\"268,-106.5 363,-106.5 \" stroke=\"#000000\"/>\n",
       "<text fill=\"#000000\" font-family=\"Times,serif\" font-size=\"14.00\" text-anchor=\"middle\" x=\"315.5\" y=\"-91.3\">(?, 5, 5, 64)</text>\n",
       "</g>\n",
       "<!-- 140432511757968&#45;&gt;140432512089872 -->\n",
       "<g class=\"edge\" id=\"edge4\">\n",
       "<title>140432511757968-&gt;140432512089872</title>\n",
       "<path d=\"M181.5,-166.3799C181.5,-158.1745 181.5,-148.7679 181.5,-139.8786\" fill=\"none\" stroke=\"#000000\"/>\n",
       "<polygon fill=\"#000000\" points=\"185.0001,-139.784 181.5,-129.784 178.0001,-139.784 185.0001,-139.784\" stroke=\"#000000\"/>\n",
       "</g>\n",
       "<!-- 140432511756304 -->\n",
       "<g class=\"node\" id=\"node6\">\n",
       "<title>140432511756304</title>\n",
       "<polygon fill=\"none\" points=\"49.5,-.5 49.5,-46.5 313.5,-46.5 313.5,-.5 49.5,-.5\" stroke=\"#000000\"/>\n",
       "<text fill=\"#000000\" font-family=\"Times,serif\" font-size=\"14.00\" text-anchor=\"middle\" x=\"113\" y=\"-19.8\">conv2d_2: Conv2D</text>\n",
       "<polyline fill=\"none\" points=\"176.5,-.5 176.5,-46.5 \" stroke=\"#000000\"/>\n",
       "<text fill=\"#000000\" font-family=\"Times,serif\" font-size=\"14.00\" text-anchor=\"middle\" x=\"204.5\" y=\"-31.3\">input:</text>\n",
       "<polyline fill=\"none\" points=\"176.5,-23.5 232.5,-23.5 \" stroke=\"#000000\"/>\n",
       "<text fill=\"#000000\" font-family=\"Times,serif\" font-size=\"14.00\" text-anchor=\"middle\" x=\"204.5\" y=\"-8.3\">output:</text>\n",
       "<polyline fill=\"none\" points=\"232.5,-.5 232.5,-46.5 \" stroke=\"#000000\"/>\n",
       "<text fill=\"#000000\" font-family=\"Times,serif\" font-size=\"14.00\" text-anchor=\"middle\" x=\"273\" y=\"-31.3\">(?, 5, 5, 64)</text>\n",
       "<polyline fill=\"none\" points=\"232.5,-23.5 313.5,-23.5 \" stroke=\"#000000\"/>\n",
       "<text fill=\"#000000\" font-family=\"Times,serif\" font-size=\"14.00\" text-anchor=\"middle\" x=\"273\" y=\"-8.3\">(?, 3, 3, 64)</text>\n",
       "</g>\n",
       "<!-- 140432512089872&#45;&gt;140432511756304 -->\n",
       "<g class=\"edge\" id=\"edge5\">\n",
       "<title>140432512089872-&gt;140432511756304</title>\n",
       "<path d=\"M181.5,-83.3799C181.5,-75.1745 181.5,-65.7679 181.5,-56.8786\" fill=\"none\" stroke=\"#000000\"/>\n",
       "<polygon fill=\"#000000\" points=\"185.0001,-56.784 181.5,-46.784 178.0001,-56.784 185.0001,-56.784\" stroke=\"#000000\"/>\n",
       "</g>\n",
       "</g>\n",
       "</svg>"
      ],
      "text/plain": [
       "<IPython.core.display.SVG object>"
      ]
     },
     "execution_count": 11,
     "metadata": {},
     "output_type": "execute_result"
    }
   ],
   "source": [
    "from IPython.display import SVG\n",
    "from tensorflow.python.keras.utils.vis_utils import model_to_dot\n",
    "\n",
    "%matplotlib inline\n",
    "\n",
    "SVG(model_to_dot(model, show_shapes=True, dpi=60).create(prog='dot', format='svg'))"
   ]
  },
  {
   "cell_type": "code",
   "execution_count": 12,
   "id": "b2617662",
   "metadata": {},
   "outputs": [],
   "source": [
    "# 마지막에 dense 넣어야하는데 dense는 input을 1d만 받음 > flatten해줘야함\n",
    "model.add(layers.Flatten())\n",
    "model.add(layers.Dense(64, activation='relu'))\n",
    "model.add(layers.Dense(10, activation='softmax'))"
   ]
  },
  {
   "cell_type": "code",
   "execution_count": 13,
   "id": "7fd863bf",
   "metadata": {},
   "outputs": [
    {
     "name": "stdout",
     "output_type": "stream",
     "text": [
      "Model: \"sequential\"\n",
      "_________________________________________________________________\n",
      "Layer (type)                 Output Shape              Param #   \n",
      "=================================================================\n",
      "conv2d (Conv2D)              (None, 26, 26, 32)        320       \n",
      "_________________________________________________________________\n",
      "max_pooling2d (MaxPooling2D) (None, 13, 13, 32)        0         \n",
      "_________________________________________________________________\n",
      "conv2d_1 (Conv2D)            (None, 11, 11, 64)        18496     \n",
      "_________________________________________________________________\n",
      "max_pooling2d_1 (MaxPooling2 (None, 5, 5, 64)          0         \n",
      "_________________________________________________________________\n",
      "conv2d_2 (Conv2D)            (None, 3, 3, 64)          36928     \n",
      "_________________________________________________________________\n",
      "flatten (Flatten)            (None, 576)               0         \n",
      "_________________________________________________________________\n",
      "dense (Dense)                (None, 64)                36928     \n",
      "_________________________________________________________________\n",
      "dense_1 (Dense)              (None, 10)                650       \n",
      "=================================================================\n",
      "Total params: 93,322\n",
      "Trainable params: 93,322\n",
      "Non-trainable params: 0\n",
      "_________________________________________________________________\n"
     ]
    }
   ],
   "source": [
    "model.summary()"
   ]
  },
  {
   "cell_type": "code",
   "execution_count": 15,
   "id": "7e686517",
   "metadata": {},
   "outputs": [
    {
     "name": "stdout",
     "output_type": "stream",
     "text": [
      "Train on 60000 samples\n",
      "Epoch 1/5\n",
      "60000/60000 [==============================] - 43s 721us/sample - loss: 0.1503 - accuracy: 0.9531\n",
      "Epoch 2/5\n",
      "60000/60000 [==============================] - 39s 643us/sample - loss: 0.0480 - accuracy: 0.9853\n",
      "Epoch 3/5\n",
      "60000/60000 [==============================] - 47s 784us/sample - loss: 0.0345 - accuracy: 0.9898\n",
      "Epoch 4/5\n",
      "60000/60000 [==============================] - 54s 905us/sample - loss: 0.0252 - accuracy: 0.9923\n",
      "Epoch 5/5\n",
      "60000/60000 [==============================] - 49s 822us/sample - loss: 0.0206 - accuracy: 0.9936\n"
     ]
    },
    {
     "data": {
      "text/plain": [
       "<tensorflow.python.keras.callbacks.History at 0x7fb8fe1bccd0>"
      ]
     },
     "execution_count": 15,
     "metadata": {},
     "output_type": "execute_result"
    }
   ],
   "source": [
    "model.compile(optimizer='adam', \n",
    "              loss='sparse_categorical_crossentropy',\n",
    "              metrics=['accuracy'])\n",
    "# loss : crossEntropy / adaboost / bert\n",
    "model.fit(train_images, train_labels, epochs=5)"
   ]
  },
  {
   "cell_type": "code",
   "execution_count": null,
   "id": "6ddf8595",
   "metadata": {},
   "outputs": [],
   "source": [
    "# Model.compile(\n",
    "#     optimizer=\"rmsprop\",\n",
    "#     loss=None,\n",
    "#     metrics=None,\n",
    "#     loss_weights=None,\n",
    "#     weighted_metrics=None,\n",
    "#     run_eagerly=None,\n",
    "#     steps_per_execution=None,\n",
    "#     **kwargs\n",
    "# )"
   ]
  }
 ],
 "metadata": {
  "kernelspec": {
   "display_name": "Python 3",
   "language": "python",
   "name": "python3"
  },
  "language_info": {
   "codemirror_mode": {
    "name": "ipython",
    "version": 3
   },
   "file_extension": ".py",
   "mimetype": "text/x-python",
   "name": "python",
   "nbconvert_exporter": "python",
   "pygments_lexer": "ipython3",
   "version": "3.7.7"
  }
 },
 "nbformat": 4,
 "nbformat_minor": 5
}
